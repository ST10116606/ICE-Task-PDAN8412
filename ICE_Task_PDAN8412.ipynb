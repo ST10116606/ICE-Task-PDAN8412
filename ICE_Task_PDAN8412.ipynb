{
  "nbformat": 4,
  "nbformat_minor": 0,
  "metadata": {
    "colab": {
      "provenance": []
    },
    "kernelspec": {
      "name": "python3",
      "display_name": "Python 3"
    },
    "language_info": {
      "name": "python"
    }
  },
  "cells": [
    {
      "cell_type": "code",
      "execution_count": 112,
      "metadata": {
        "id": "UqrClpwREpHY"
      },
      "outputs": [],
      "source": [
        "import os\n",
        "import zipfile\n",
        "import numpy as np\n",
        "import tensorflow as tf\n",
        "from tensorflow import keras\n",
        "from tensorflow.keras import layers\n",
        "from keras.models import Sequential\n",
        "from keras.layers import Convolution2D\n",
        "from keras.layers import MaxPooling2D\n",
        "from keras.layers import Dropout, Dense, Flatten\n",
        "from keras import utils as utils\n",
        "from tensorflow.keras.optimizers import SGD as sgd\n",
        "import pandas as pd\n",
        "import numpy as np"
      ]
    },
    {
      "cell_type": "code",
      "source": [
        "zip_file_name = '14,365 Nicolas Cage Photos & High Res Pictures - Getty Images.zip'"
      ],
      "metadata": {
        "id": "NDeb-Clh2_72"
      },
      "execution_count": 2,
      "outputs": []
    },
    {
      "cell_type": "code",
      "source": [
        "extract_folder = 'extracted_images'"
      ],
      "metadata": {
        "id": "EVq9Jlam4ERi"
      },
      "execution_count": 3,
      "outputs": []
    },
    {
      "cell_type": "code",
      "source": [
        "os.makedirs(extract_folder, exist_ok=True)"
      ],
      "metadata": {
        "id": "XElDfbJJ4FwK"
      },
      "execution_count": 4,
      "outputs": []
    },
    {
      "cell_type": "code",
      "source": [
        "with zipfile.ZipFile(zip_file_name, 'r') as zip_ref:\n",
        "    zip_ref.extractall(extract_folder)\n",
        "\n",
        "print(f'Files extracted to: {extract_folder}')"
      ],
      "metadata": {
        "colab": {
          "base_uri": "https://localhost:8080/"
        },
        "id": "1kVupQ7G4JTu",
        "outputId": "0980f422-186c-40a3-e916-ca8473c48066"
      },
      "execution_count": 5,
      "outputs": [
        {
          "output_type": "stream",
          "name": "stdout",
          "text": [
            "Files extracted to: extracted_images\n"
          ]
        }
      ]
    },
    {
      "cell_type": "code",
      "source": [
        "model = Sequential()\n",
        "model.add(Convolution2D(32, (3, 3), input_shape=(32, 32, 3), padding='same', activation='relu'))"
      ],
      "metadata": {
        "colab": {
          "base_uri": "https://localhost:8080/"
        },
        "id": "iTa3Qtlv4SK6",
        "outputId": "578a7379-118f-40d5-ef32-e832992a83f4"
      },
      "execution_count": 114,
      "outputs": [
        {
          "output_type": "stream",
          "name": "stderr",
          "text": [
            "/usr/local/lib/python3.10/dist-packages/keras/src/layers/convolutional/base_conv.py:107: UserWarning: Do not pass an `input_shape`/`input_dim` argument to a layer. When using Sequential models, prefer using an `Input(shape)` object as the first layer in the model instead.\n",
            "  super().__init__(activity_regularizer=activity_regularizer, **kwargs)\n"
          ]
        }
      ]
    },
    {
      "cell_type": "code",
      "source": [
        "model.add(Convolution2D(32,(3,3),padding='same', activation= 'relu'))"
      ],
      "metadata": {
        "id": "NqEGOI-A45ag"
      },
      "execution_count": 115,
      "outputs": []
    },
    {
      "cell_type": "code",
      "source": [
        "model.add(MaxPooling2D(pool_size=(2,2)))"
      ],
      "metadata": {
        "id": "CcTb6xvd5EmC"
      },
      "execution_count": 116,
      "outputs": []
    },
    {
      "cell_type": "code",
      "source": [
        "dataset = tf.keras.preprocessing.image_dataset_from_directory(extract_folder, image_size=(32, 32), batch_size=32, shuffle=True)"
      ],
      "metadata": {
        "colab": {
          "base_uri": "https://localhost:8080/"
        },
        "id": "-Oi4F7Fy6BWQ",
        "outputId": "5573e321-59e1-4044-b424-13cfe9d1ecb2"
      },
      "execution_count": 118,
      "outputs": [
        {
          "output_type": "stream",
          "name": "stdout",
          "text": [
            "Found 136 files belonging to 4 classes.\n"
          ]
        }
      ]
    },
    {
      "cell_type": "code",
      "source": [
        "train_size = int(0.8 * len(dataset))\n",
        "test_size = len(dataset) - train_size\n",
        "train_dataset = dataset.take(train_size)\n",
        "test_dataset = dataset.skip(train_size)"
      ],
      "metadata": {
        "id": "MbSL_B9y6qkM"
      },
      "execution_count": 119,
      "outputs": []
    },
    {
      "cell_type": "code",
      "source": [
        "X, y = [], []\n",
        "for images, labels in train_dataset:\n",
        "    X.append(images.numpy())\n",
        "    y.append(labels.numpy())\n",
        "\n",
        "X = np.concatenate(X)\n",
        "y = np.concatenate(y)\n",
        "\n",
        "X_test, y_test = [], []\n",
        "for images, labels in test_dataset:\n",
        "    X_test.append(images.numpy())\n",
        "    y_test.append(labels.numpy())\n",
        "\n",
        "X_test = np.concatenate(X_test)\n",
        "y_test = np.concatenate(y_test)\n"
      ],
      "metadata": {
        "id": "7EFa4e5KAJjy"
      },
      "execution_count": 120,
      "outputs": []
    },
    {
      "cell_type": "code",
      "source": [
        "X.shape"
      ],
      "metadata": {
        "colab": {
          "base_uri": "https://localhost:8080/"
        },
        "id": "ogsUi-DdDqEL",
        "outputId": "7efe7a44-ae7d-4aa7-c6af-66b3259df93c"
      },
      "execution_count": 121,
      "outputs": [
        {
          "output_type": "execute_result",
          "data": {
            "text/plain": [
              "(128, 32, 32, 3)"
            ]
          },
          "metadata": {},
          "execution_count": 121
        }
      ]
    },
    {
      "cell_type": "code",
      "source": [
        "X_test"
      ],
      "metadata": {
        "colab": {
          "base_uri": "https://localhost:8080/"
        },
        "id": "eEX4RIHYAbIF",
        "outputId": "715561aa-de86-45d8-f43d-ff31e764b3dd"
      },
      "execution_count": 122,
      "outputs": [
        {
          "output_type": "execute_result",
          "data": {
            "text/plain": [
              "array([[[[1.46868164e+02, 1.42868164e+02, 1.33868164e+02],\n",
              "         [1.60885742e+02, 1.56885742e+02, 1.47885742e+02],\n",
              "         [1.72859375e+02, 1.68859375e+02, 1.56859375e+02],\n",
              "         ...,\n",
              "         [1.93716797e+02, 1.84242188e+02, 1.71333008e+02],\n",
              "         [1.76161133e+02, 1.72161133e+02, 1.63161133e+02],\n",
              "         [1.72163086e+02, 1.70022461e+02, 1.58444336e+02]],\n",
              "\n",
              "        [[1.52640625e+02, 1.48640625e+02, 1.39640625e+02],\n",
              "         [1.66765625e+02, 1.62765625e+02, 1.50765625e+02],\n",
              "         [1.74357422e+02, 1.70357422e+02, 1.58357422e+02],\n",
              "         ...,\n",
              "         [1.87000000e+02, 1.83000000e+02, 1.74000000e+02],\n",
              "         [1.80000000e+02, 1.76000000e+02, 1.67000000e+02],\n",
              "         [5.30097656e+01, 4.78955078e+01, 3.91298828e+01]],\n",
              "\n",
              "        [[1.58637695e+02, 1.53747070e+02, 1.45637695e+02],\n",
              "         [1.72187500e+02, 1.68187500e+02, 1.56428711e+02],\n",
              "         [1.24106445e+02, 1.21512695e+02, 1.08809570e+02],\n",
              "         ...,\n",
              "         [1.64515625e+02, 1.62109375e+02, 1.56000000e+02],\n",
              "         [1.79703125e+02, 1.76000000e+02, 1.67593750e+02],\n",
              "         [1.74139648e+02, 1.70842773e+02, 1.61842773e+02]],\n",
              "\n",
              "        ...,\n",
              "\n",
              "        [[1.32226562e+00, 3.19726562e+00, 2.15332031e+00],\n",
              "         [1.27792969e+01, 9.15429688e+00, 1.05292969e+01],\n",
              "         [2.20156250e+01, 1.70156250e+01, 2.10156250e+01],\n",
              "         ...,\n",
              "         [1.41369141e+02, 1.71447266e+02, 1.87228516e+02],\n",
              "         [1.81499023e+02, 1.79936523e+02, 1.74186523e+02],\n",
              "         [1.72062500e+02, 1.69062500e+02, 1.60062500e+02]],\n",
              "\n",
              "        [[2.38076172e+01, 2.08076172e+01, 1.58076172e+01],\n",
              "         [5.18750000e+00, 3.18750000e+00, 4.18750000e+00],\n",
              "         [1.27832031e+01, 1.07832031e+01, 1.17832031e+01],\n",
              "         ...,\n",
              "         [1.86956055e+02, 1.81445312e+02, 1.61606445e+02],\n",
              "         [1.94598633e+02, 1.73459961e+02, 1.51102539e+02],\n",
              "         [1.65353516e+02, 1.63363281e+02, 1.49952148e+02]],\n",
              "\n",
              "        [[3.00000000e+00, 3.00000000e+00, 3.00000000e+00],\n",
              "         [4.00000000e+00, 4.00000000e+00, 4.00000000e+00],\n",
              "         [5.62500000e+00, 5.00000000e+00, 5.31250000e+00],\n",
              "         ...,\n",
              "         [1.83000000e+02, 1.80000000e+02, 1.71000000e+02],\n",
              "         [1.70885742e+02, 1.67885742e+02, 1.58885742e+02],\n",
              "         [1.58062500e+02, 1.55062500e+02, 1.48062500e+02]]],\n",
              "\n",
              "\n",
              "       [[[4.41015625e+01, 4.49765625e+01, 4.00390625e+01],\n",
              "         [7.09453125e+01, 6.14453125e+01, 6.66328125e+01],\n",
              "         [7.94062500e+01, 7.36171875e+01, 7.54296875e+01],\n",
              "         ...,\n",
              "         [1.98367188e+02, 1.96570312e+02, 1.97906250e+02],\n",
              "         [2.07601562e+02, 2.07476562e+02, 2.09539062e+02],\n",
              "         [3.31953125e+01, 2.46953125e+01, 2.50703125e+01]],\n",
              "\n",
              "        [[3.37187500e+01, 2.91406250e+01, 3.04296875e+01],\n",
              "         [6.32578125e+01, 5.26328125e+01, 5.84453125e+01],\n",
              "         [1.97796875e+02, 1.90296875e+02, 1.94921875e+02],\n",
              "         ...,\n",
              "         [8.17187500e+01, 7.65000000e+01, 8.19296875e+01],\n",
              "         [4.37578125e+01, 4.61796875e+01, 4.30625000e+01],\n",
              "         [2.11953125e+01, 2.18203125e+01, 1.70078125e+01]],\n",
              "\n",
              "        [[4.03125000e+01, 3.53125000e+01, 3.23125000e+01],\n",
              "         [4.78203125e+01, 3.68203125e+01, 4.08203125e+01],\n",
              "         [6.18906250e+01, 5.24531250e+01, 5.65781250e+01],\n",
              "         ...,\n",
              "         [3.10234375e+01, 2.60234375e+01, 2.30234375e+01],\n",
              "         [3.00000000e+01, 2.50000000e+01, 2.20000000e+01],\n",
              "         [2.69609375e+01, 2.22734375e+01, 1.92734375e+01]],\n",
              "\n",
              "        ...,\n",
              "\n",
              "        [[1.06398438e+02, 2.39843750e+00, 1.39843750e+00],\n",
              "         [1.17000000e+02, 6.06250000e+00, 7.37500000e+00],\n",
              "         [1.05179688e+02, 3.17968750e+00, 1.17968750e+00],\n",
              "         ...,\n",
              "         [1.21789062e+02, 7.16406250e+00, 7.28906250e+00],\n",
              "         [1.24062500e+02, 8.57812500e+00, 9.32031250e+00],\n",
              "         [1.04617188e+02, 2.99218750e+00, 1.07812500e+00]],\n",
              "\n",
              "        [[9.29140625e+01, 4.91406250e+00, 9.14062500e-01],\n",
              "         [9.11875000e+01, 2.18750000e+00, 0.00000000e+00],\n",
              "         [9.63359375e+01, 2.33593750e+00, 1.01562500e+00],\n",
              "         ...,\n",
              "         [1.07648438e+02, 7.64843750e+00, 6.91406250e+00],\n",
              "         [1.01257812e+02, 0.00000000e+00, 0.00000000e+00],\n",
              "         [1.09335938e+02, 5.38281250e+00, 4.57031250e+00]],\n",
              "\n",
              "        [[9.21250000e+01, 1.25000000e-01, 1.12500000e+00],\n",
              "         [9.23984375e+01, 2.52343750e+00, 2.46093750e+00],\n",
              "         [9.30000000e+01, 1.00000000e+00, 2.00000000e+00],\n",
              "         ...,\n",
              "         [1.03023438e+02, 3.02343750e+00, 3.02343750e+00],\n",
              "         [9.67734375e+01, 2.50000000e-01, 1.71875000e-01],\n",
              "         [1.08148438e+02, 4.52343750e+00, 5.39843750e+00]]],\n",
              "\n",
              "\n",
              "       [[[2.27000000e+02, 2.04000000e+02, 1.88000000e+02],\n",
              "         [2.28000000e+02, 2.05000000e+02, 1.89000000e+02],\n",
              "         [2.29625000e+02, 2.06625000e+02, 1.90625000e+02],\n",
              "         ...,\n",
              "         [2.15000000e+02, 1.88000000e+02, 1.69000000e+02],\n",
              "         [2.12000000e+02, 1.85000000e+02, 1.64000000e+02],\n",
              "         [2.07000000e+02, 1.80000000e+02, 1.59000000e+02]],\n",
              "\n",
              "        [[2.28000000e+02, 2.05000000e+02, 1.89000000e+02],\n",
              "         [2.29000000e+02, 2.06000000e+02, 1.90000000e+02],\n",
              "         [2.30000000e+02, 2.09000000e+02, 1.92000000e+02],\n",
              "         ...,\n",
              "         [2.16000000e+02, 1.89000000e+02, 1.70000000e+02],\n",
              "         [2.14000000e+02, 1.87000000e+02, 1.66000000e+02],\n",
              "         [2.09000000e+02, 1.82000000e+02, 1.61000000e+02]],\n",
              "\n",
              "        [[2.29000000e+02, 2.06000000e+02, 1.90000000e+02],\n",
              "         [2.31000000e+02, 2.08000000e+02, 1.92000000e+02],\n",
              "         [2.32000000e+02, 2.09000000e+02, 1.93000000e+02],\n",
              "         ...,\n",
              "         [2.16375000e+02, 1.89375000e+02, 1.70375000e+02],\n",
              "         [2.14000000e+02, 1.87000000e+02, 1.66000000e+02],\n",
              "         [2.10000000e+02, 1.83000000e+02, 1.62000000e+02]],\n",
              "\n",
              "        ...,\n",
              "\n",
              "        [[2.16625000e+02, 1.92625000e+02, 1.80625000e+02],\n",
              "         [2.13000000e+02, 1.89625000e+02, 1.75125000e+02],\n",
              "         [2.62578125e+01, 2.42578125e+01, 2.52578125e+01],\n",
              "         ...,\n",
              "         [1.99843750e+01, 1.99843750e+01, 2.14687500e+01],\n",
              "         [1.34132812e+02, 1.07132812e+02, 8.88828125e+01],\n",
              "         [1.39375000e+02, 1.12375000e+02, 9.33750000e+01]],\n",
              "\n",
              "        [[2.16000000e+02, 1.92000000e+02, 1.80000000e+02],\n",
              "         [2.12000000e+02, 1.89000000e+02, 1.73000000e+02],\n",
              "         [2.50625000e+01, 2.36875000e+01, 2.43750000e+01],\n",
              "         ...,\n",
              "         [2.43125000e+01, 2.43125000e+01, 2.63125000e+01],\n",
              "         [1.35507812e+02, 1.08507812e+02, 8.95078125e+01],\n",
              "         [1.41937500e+02, 1.12937500e+02, 9.49375000e+01]],\n",
              "\n",
              "        [[2.13000000e+02, 1.89000000e+02, 1.77000000e+02],\n",
              "         [2.09000000e+02, 1.86000000e+02, 1.70000000e+02],\n",
              "         [2.21484375e+01, 2.01484375e+01, 2.11484375e+01],\n",
              "         ...,\n",
              "         [2.13125000e+01, 2.13125000e+01, 2.33125000e+01],\n",
              "         [1.35812500e+02, 1.08812500e+02, 8.98125000e+01],\n",
              "         [1.37937500e+02, 1.09937500e+02, 8.89375000e+01]]],\n",
              "\n",
              "\n",
              "       ...,\n",
              "\n",
              "\n",
              "       [[[2.43000000e+02, 2.40000000e+02, 2.35000000e+02],\n",
              "         [2.42375000e+02, 2.39375000e+02, 2.34375000e+02],\n",
              "         [2.42375000e+02, 2.39375000e+02, 2.34375000e+02],\n",
              "         ...,\n",
              "         [2.41000000e+02, 2.30375000e+02, 2.28375000e+02],\n",
              "         [2.38000000e+02, 2.29000000e+02, 2.24000000e+02],\n",
              "         [2.38000000e+02, 2.27000000e+02, 2.21000000e+02]],\n",
              "\n",
              "        [[2.44289062e+02, 2.41289062e+02, 2.36289062e+02],\n",
              "         [2.45000000e+02, 2.42000000e+02, 2.37000000e+02],\n",
              "         [2.44250000e+02, 2.41250000e+02, 2.36250000e+02],\n",
              "         ...,\n",
              "         [2.38250000e+02, 2.29500000e+02, 2.26750000e+02],\n",
              "         [2.39000000e+02, 2.28000000e+02, 2.24000000e+02],\n",
              "         [2.36000000e+02, 2.27000000e+02, 2.20000000e+02]],\n",
              "\n",
              "        [[2.43437500e+02, 2.40125000e+02, 2.35750000e+02],\n",
              "         [2.45375000e+02, 2.42312500e+02, 2.39000000e+02],\n",
              "         [2.43570312e+02, 2.40375000e+02, 2.35765625e+02],\n",
              "         ...,\n",
              "         [2.44085938e+02, 2.32117188e+02, 2.29468750e+02],\n",
              "         [2.44984375e+02, 2.34609375e+02, 2.28296875e+02],\n",
              "         [1.88632812e+02, 1.59250000e+02, 1.59015625e+02]],\n",
              "\n",
              "        ...,\n",
              "\n",
              "        [[1.93281250e+02, 9.92187500e-01, 3.19062500e+01],\n",
              "         [2.03125000e+02, 4.38281250e+00, 3.73828125e+01],\n",
              "         [2.01250000e+02, 8.87500000e+00, 4.00000000e+01],\n",
              "         ...,\n",
              "         [1.88156250e+02, 2.03125000e+00, 3.01875000e+01],\n",
              "         [1.86976562e+02, 7.26562500e-01, 3.14140625e+01],\n",
              "         [2.06828125e+02, 1.18281250e+01, 4.18281250e+01]],\n",
              "\n",
              "        [[2.12875000e+02, 2.98750000e+01, 5.22500000e+01],\n",
              "         [2.01992188e+02, 7.99218750e+00, 3.46875000e+01],\n",
              "         [2.11429688e+02, 1.74296875e+01, 4.44296875e+01],\n",
              "         ...,\n",
              "         [1.98429688e+02, 4.57031250e+00, 3.63203125e+01],\n",
              "         [1.92828125e+02, 3.45312500e+00, 3.36406250e+01],\n",
              "         [1.93046875e+02, 2.45312500e+00, 3.31484375e+01]],\n",
              "\n",
              "        [[2.17390625e+02, 2.05156250e+01, 4.71406250e+01],\n",
              "         [2.10492188e+02, 1.44921875e+01, 3.64921875e+01],\n",
              "         [2.18687500e+02, 2.26718750e+01, 4.52343750e+01],\n",
              "         ...,\n",
              "         [1.98671875e+02, 1.01718750e+01, 3.99218750e+01],\n",
              "         [1.93429688e+02, 3.17968750e+00, 3.38046875e+01],\n",
              "         [1.89562500e+02, 5.18750000e+00, 3.33125000e+01]]],\n",
              "\n",
              "\n",
              "       [[[2.46062500e+02, 2.46062500e+02, 2.46062500e+02],\n",
              "         [2.47187500e+02, 2.51187500e+02, 2.50187500e+02],\n",
              "         [2.55000000e+02, 2.55000000e+02, 2.55000000e+02],\n",
              "         ...,\n",
              "         [1.52406250e+02, 5.33671875e+01, 1.37570312e+02],\n",
              "         [1.43843750e+02, 6.09921875e+01, 1.27257812e+02],\n",
              "         [1.25859375e+02, 3.72421875e+01, 1.14289062e+02]],\n",
              "\n",
              "        [[2.48000000e+02, 2.48000000e+02, 2.48000000e+02],\n",
              "         [2.49187500e+02, 2.50187500e+02, 2.45187500e+02],\n",
              "         [2.54312500e+02, 2.54312500e+02, 2.54312500e+02],\n",
              "         ...,\n",
              "         [7.28671875e+01, 8.25000000e+00, 4.94375000e+01],\n",
              "         [1.59546875e+02, 5.68281250e+01, 1.47281250e+02],\n",
              "         [8.47343750e+01, 3.75000000e+00, 4.48906250e+01]],\n",
              "\n",
              "        [[2.48375000e+02, 2.48375000e+02, 2.48375000e+02],\n",
              "         [2.48625000e+02, 2.53625000e+02, 2.47507812e+02],\n",
              "         [2.55000000e+02, 2.55000000e+02, 2.55000000e+02],\n",
              "         ...,\n",
              "         [1.43679688e+02, 3.87421875e+01, 1.26820312e+02],\n",
              "         [1.32742188e+02, 3.13671875e+01, 1.09492188e+02],\n",
              "         [8.70078125e+01, 1.41093750e+01, 6.76484375e+01]],\n",
              "\n",
              "        ...,\n",
              "\n",
              "        [[7.58828125e+01, 8.57656250e+01, 8.96484375e+01],\n",
              "         [7.16015625e+01, 7.54609375e+01, 7.66796875e+01],\n",
              "         [2.39312500e+02, 2.44453125e+02, 2.44132812e+02],\n",
              "         ...,\n",
              "         [2.34687500e+02, 2.35687500e+02, 2.29687500e+02],\n",
              "         [2.42375000e+02, 2.43875000e+02, 2.37625000e+02],\n",
              "         [2.25437500e+02, 2.30437500e+02, 2.24437500e+02]],\n",
              "\n",
              "        [[5.88593750e+01, 6.38593750e+01, 6.68593750e+01],\n",
              "         [7.33750000e+01, 7.83750000e+01, 8.23750000e+01],\n",
              "         [2.35882812e+02, 2.41882812e+02, 2.40507812e+02],\n",
              "         ...,\n",
              "         [2.33000000e+02, 2.32625000e+02, 2.27312500e+02],\n",
              "         [2.36250000e+02, 2.39250000e+02, 2.32250000e+02],\n",
              "         [2.22039062e+02, 2.27039062e+02, 2.21039062e+02]],\n",
              "\n",
              "        [[8.50000000e+01, 9.00000000e+01, 9.30000000e+01],\n",
              "         [9.51484375e+01, 9.35234375e+01, 9.69843750e+01],\n",
              "         [2.35000000e+02, 2.39000000e+02, 2.40000000e+02],\n",
              "         ...,\n",
              "         [2.29000000e+02, 2.28625000e+02, 2.23312500e+02],\n",
              "         [2.32625000e+02, 2.35625000e+02, 2.28625000e+02],\n",
              "         [2.22062500e+02, 2.23062500e+02, 2.18062500e+02]]],\n",
              "\n",
              "\n",
              "       [[[1.44820312e+02, 2.16820312e+02, 2.54820312e+02],\n",
              "         [1.49000000e+02, 2.19000000e+02, 2.55000000e+02],\n",
              "         [1.44562500e+02, 2.13250000e+02, 2.53687500e+02],\n",
              "         ...,\n",
              "         [8.29375000e+01, 5.56875000e+01, 6.10000000e+01],\n",
              "         [2.53960938e+02, 2.07789062e+02, 1.73312500e+02],\n",
              "         [9.51875000e+01, 6.89921875e+01, 7.95703125e+01]],\n",
              "\n",
              "        [[1.40328125e+02, 2.12328125e+02, 2.52328125e+02],\n",
              "         [1.48187500e+02, 2.17187500e+02, 2.50187500e+02],\n",
              "         [1.57257812e+02, 2.22570312e+02, 2.55000000e+02],\n",
              "         ...,\n",
              "         [8.04765625e+01, 5.17421875e+01, 5.70546875e+01],\n",
              "         [2.26203125e+02, 1.59062500e+02, 1.30062500e+02],\n",
              "         [1.71875000e+02, 1.30593750e+02, 1.13023438e+02]],\n",
              "\n",
              "        [[2.27554688e+02, 2.45085938e+02, 2.54414062e+02],\n",
              "         [2.52796875e+02, 2.50757812e+02, 2.51625000e+02],\n",
              "         [2.51898438e+02, 2.52000000e+02, 2.52554688e+02],\n",
              "         ...,\n",
              "         [8.08437500e+01, 5.00625000e+01, 5.94843750e+01],\n",
              "         [2.42492188e+02, 1.61500000e+02, 1.27023438e+02],\n",
              "         [2.33914062e+02, 1.98742188e+02, 1.80414062e+02]],\n",
              "\n",
              "        ...,\n",
              "\n",
              "        [[1.39039062e+02, 1.99406250e+02, 2.29007812e+02],\n",
              "         [1.89765625e+02, 2.28187500e+02, 2.40890625e+02],\n",
              "         [1.38710938e+02, 2.03007812e+02, 2.30726562e+02],\n",
              "         ...,\n",
              "         [2.14546875e+02, 2.07820312e+02, 2.13062500e+02],\n",
              "         [1.86367188e+02, 1.95992188e+02, 2.03367188e+02],\n",
              "         [1.68359375e+02, 1.91789062e+02, 1.96500000e+02]],\n",
              "\n",
              "        [[1.99312500e+02, 2.30851562e+02, 2.41750000e+02],\n",
              "         [1.62187500e+02, 2.14992188e+02, 2.35421875e+02],\n",
              "         [1.45914062e+02, 2.04593750e+02, 2.31515625e+02],\n",
              "         ...,\n",
              "         [1.83312500e+02, 1.77062500e+02, 1.84062500e+02],\n",
              "         [2.04312500e+02, 2.10750000e+02, 2.20937500e+02],\n",
              "         [2.16539062e+02, 2.24460938e+02, 2.35500000e+02]],\n",
              "\n",
              "        [[9.52187500e+01, 1.72617188e+02, 2.18929688e+02],\n",
              "         [6.77578125e+01, 1.57687500e+02, 2.10710938e+02],\n",
              "         [7.12656250e+01, 1.67187500e+02, 2.17539062e+02],\n",
              "         ...,\n",
              "         [1.29523438e+02, 6.11875000e+01, 8.28046875e+01],\n",
              "         [6.54218750e+01, 5.06718750e+01, 7.60468750e+01],\n",
              "         [7.85312500e+01, 7.15078125e+01, 8.58906250e+01]]]],\n",
              "      dtype=float32)"
            ]
          },
          "metadata": {},
          "execution_count": 122
        }
      ]
    },
    {
      "cell_type": "code",
      "source": [
        "X , X_test = X.astype('float32')/255.0, X_test.astype('float32')/255.0"
      ],
      "metadata": {
        "id": "vMx0zT_kAeXS"
      },
      "execution_count": 123,
      "outputs": []
    },
    {
      "cell_type": "code",
      "source": [
        "y_test = utils.to_categorical(y_test, 10)"
      ],
      "metadata": {
        "id": "RnIs_7RFAv2b"
      },
      "execution_count": 124,
      "outputs": []
    },
    {
      "cell_type": "code",
      "source": [
        "y =utils.to_categorical(y, 10)"
      ],
      "metadata": {
        "id": "fRBJFVm9A4iJ"
      },
      "execution_count": 125,
      "outputs": []
    },
    {
      "cell_type": "code",
      "source": [
        "Y = utils.to_categorical(Y)"
      ],
      "metadata": {
        "id": "Kc8NnVMDA78a"
      },
      "execution_count": 126,
      "outputs": []
    },
    {
      "cell_type": "code",
      "source": [
        "y_test"
      ],
      "metadata": {
        "colab": {
          "base_uri": "https://localhost:8080/"
        },
        "id": "eNEZxJ13BnNe",
        "outputId": "17e8bbe0-a9cb-4c17-a4dc-7abe20e23a55"
      },
      "execution_count": 127,
      "outputs": [
        {
          "output_type": "execute_result",
          "data": {
            "text/plain": [
              "array([[0., 1., 0., 0., 0., 0., 0., 0., 0., 0.],\n",
              "       [0., 1., 0., 0., 0., 0., 0., 0., 0., 0.],\n",
              "       [0., 0., 0., 1., 0., 0., 0., 0., 0., 0.],\n",
              "       [0., 1., 0., 0., 0., 0., 0., 0., 0., 0.],\n",
              "       [0., 1., 0., 0., 0., 0., 0., 0., 0., 0.],\n",
              "       [0., 0., 0., 1., 0., 0., 0., 0., 0., 0.],\n",
              "       [0., 0., 0., 1., 0., 0., 0., 0., 0., 0.],\n",
              "       [0., 0., 1., 0., 0., 0., 0., 0., 0., 0.]])"
            ]
          },
          "metadata": {},
          "execution_count": 127
        }
      ]
    },
    {
      "cell_type": "code",
      "source": [
        "model = Sequential()"
      ],
      "metadata": {
        "id": "SJMrm60rBsQ2"
      },
      "execution_count": 136,
      "outputs": []
    },
    {
      "cell_type": "code",
      "source": [
        "model.add(Convolution2D(32, (3, 3), input_shape=(32, 32, 3), padding='same', activation='relu'))"
      ],
      "metadata": {
        "id": "j5cwhWx-BtT3"
      },
      "execution_count": 137,
      "outputs": []
    },
    {
      "cell_type": "code",
      "source": [
        "model.add(Dropout(0.2))"
      ],
      "metadata": {
        "id": "UoknM1Z9B0N7"
      },
      "execution_count": 138,
      "outputs": []
    },
    {
      "cell_type": "code",
      "source": [
        "model.add(Convolution2D(32, (3, 3), activation='relu', padding='same'))"
      ],
      "metadata": {
        "id": "5gIemV6BB3uj"
      },
      "execution_count": 139,
      "outputs": []
    },
    {
      "cell_type": "code",
      "source": [
        "model.add(MaxPooling2D(pool_size=(2, 2)))"
      ],
      "metadata": {
        "id": "uyuYbn-rB_TZ"
      },
      "execution_count": 140,
      "outputs": []
    },
    {
      "cell_type": "code",
      "source": [
        "model.add(Flatten())"
      ],
      "metadata": {
        "id": "otJm_2EICDI_"
      },
      "execution_count": 141,
      "outputs": []
    },
    {
      "cell_type": "code",
      "source": [
        "model.add(Dense(512, activation='relu'))"
      ],
      "metadata": {
        "id": "VTdqCBVtCHhQ"
      },
      "execution_count": 142,
      "outputs": []
    },
    {
      "cell_type": "code",
      "source": [
        "model.add(Dropout(0.3))"
      ],
      "metadata": {
        "id": "rmN5bwAeCMJZ"
      },
      "execution_count": 143,
      "outputs": []
    },
    {
      "cell_type": "code",
      "source": [
        "model.add(Dense(10, activation='softmax'))"
      ],
      "metadata": {
        "id": "e0WB-9EHCRs-"
      },
      "execution_count": 144,
      "outputs": []
    },
    {
      "cell_type": "code",
      "source": [
        "model.compile(loss='categorical_crossentropy', optimizer=sgd(momentum=0.5, decay=0.0004), metrics=['accuracy'])"
      ],
      "metadata": {
        "colab": {
          "base_uri": "https://localhost:8080/"
        },
        "id": "cYN0BPsSCZCH",
        "outputId": "fc3dd478-f147-44ee-b79e-2a23326e430a"
      },
      "execution_count": 145,
      "outputs": [
        {
          "output_type": "stream",
          "name": "stderr",
          "text": [
            "/usr/local/lib/python3.10/dist-packages/keras/src/optimizers/base_optimizer.py:33: UserWarning: Argument `decay` is no longer supported and will be ignored.\n",
            "  warnings.warn(\n"
          ]
        }
      ]
    },
    {
      "cell_type": "code",
      "source": [
        "model.fit(X, y, validation_data=(X_test, y_test), epochs=25,  batch_size=512)"
      ],
      "metadata": {
        "colab": {
          "base_uri": "https://localhost:8080/"
        },
        "id": "LcknGNTtC7OI",
        "outputId": "80b23459-8b9d-4097-da95-502dd813fcf4"
      },
      "execution_count": 146,
      "outputs": [
        {
          "output_type": "stream",
          "name": "stdout",
          "text": [
            "Epoch 1/25\n",
            "\u001b[1m1/1\u001b[0m \u001b[32m━━━━━━━━━━━━━━━━━━━━\u001b[0m\u001b[37m\u001b[0m \u001b[1m2s\u001b[0m 2s/step - accuracy: 0.0156 - loss: 2.4082 - val_accuracy: 0.3750 - val_loss: 2.2365\n",
            "Epoch 2/25\n",
            "\u001b[1m1/1\u001b[0m \u001b[32m━━━━━━━━━━━━━━━━━━━━\u001b[0m\u001b[37m\u001b[0m \u001b[1m1s\u001b[0m 522ms/step - accuracy: 0.4766 - loss: 2.0802 - val_accuracy: 0.3750 - val_loss: 2.0740\n",
            "Epoch 3/25\n",
            "\u001b[1m1/1\u001b[0m \u001b[32m━━━━━━━━━━━━━━━━━━━━\u001b[0m\u001b[37m\u001b[0m \u001b[1m1s\u001b[0m 627ms/step - accuracy: 0.7734 - loss: 1.6909 - val_accuracy: 0.3750 - val_loss: 2.0126\n",
            "Epoch 4/25\n",
            "\u001b[1m1/1\u001b[0m \u001b[32m━━━━━━━━━━━━━━━━━━━━\u001b[0m\u001b[37m\u001b[0m \u001b[1m1s\u001b[0m 566ms/step - accuracy: 0.7734 - loss: 1.3282 - val_accuracy: 0.3750 - val_loss: 2.1965\n",
            "Epoch 5/25\n",
            "\u001b[1m1/1\u001b[0m \u001b[32m━━━━━━━━━━━━━━━━━━━━\u001b[0m\u001b[37m\u001b[0m \u001b[1m0s\u001b[0m 469ms/step - accuracy: 0.7734 - loss: 1.1218 - val_accuracy: 0.3750 - val_loss: 2.4544\n",
            "Epoch 6/25\n",
            "\u001b[1m1/1\u001b[0m \u001b[32m━━━━━━━━━━━━━━━━━━━━\u001b[0m\u001b[37m\u001b[0m \u001b[1m0s\u001b[0m 456ms/step - accuracy: 0.7734 - loss: 1.0843 - val_accuracy: 0.3750 - val_loss: 2.4681\n",
            "Epoch 7/25\n",
            "\u001b[1m1/1\u001b[0m \u001b[32m━━━━━━━━━━━━━━━━━━━━\u001b[0m\u001b[37m\u001b[0m \u001b[1m0s\u001b[0m 458ms/step - accuracy: 0.7734 - loss: 1.0824 - val_accuracy: 0.3750 - val_loss: 2.2876\n",
            "Epoch 8/25\n",
            "\u001b[1m1/1\u001b[0m \u001b[32m━━━━━━━━━━━━━━━━━━━━\u001b[0m\u001b[37m\u001b[0m \u001b[1m0s\u001b[0m 449ms/step - accuracy: 0.7734 - loss: 1.0315 - val_accuracy: 0.3750 - val_loss: 2.0811\n",
            "Epoch 9/25\n",
            "\u001b[1m1/1\u001b[0m \u001b[32m━━━━━━━━━━━━━━━━━━━━\u001b[0m\u001b[37m\u001b[0m \u001b[1m0s\u001b[0m 447ms/step - accuracy: 0.7734 - loss: 0.9709 - val_accuracy: 0.3750 - val_loss: 1.9357\n",
            "Epoch 10/25\n",
            "\u001b[1m1/1\u001b[0m \u001b[32m━━━━━━━━━━━━━━━━━━━━\u001b[0m\u001b[37m\u001b[0m \u001b[1m1s\u001b[0m 827ms/step - accuracy: 0.7734 - loss: 0.9633 - val_accuracy: 0.3750 - val_loss: 1.8574\n",
            "Epoch 11/25\n",
            "\u001b[1m1/1\u001b[0m \u001b[32m━━━━━━━━━━━━━━━━━━━━\u001b[0m\u001b[37m\u001b[0m \u001b[1m1s\u001b[0m 773ms/step - accuracy: 0.7734 - loss: 0.9335 - val_accuracy: 0.3750 - val_loss: 1.8111\n",
            "Epoch 12/25\n",
            "\u001b[1m1/1\u001b[0m \u001b[32m━━━━━━━━━━━━━━━━━━━━\u001b[0m\u001b[37m\u001b[0m \u001b[1m1s\u001b[0m 1s/step - accuracy: 0.7734 - loss: 0.9147 - val_accuracy: 0.3750 - val_loss: 1.7892\n",
            "Epoch 13/25\n",
            "\u001b[1m1/1\u001b[0m \u001b[32m━━━━━━━━━━━━━━━━━━━━\u001b[0m\u001b[37m\u001b[0m \u001b[1m1s\u001b[0m 1s/step - accuracy: 0.7734 - loss: 0.9026 - val_accuracy: 0.3750 - val_loss: 1.7734\n",
            "Epoch 14/25\n",
            "\u001b[1m1/1\u001b[0m \u001b[32m━━━━━━━━━━━━━━━━━━━━\u001b[0m\u001b[37m\u001b[0m \u001b[1m1s\u001b[0m 538ms/step - accuracy: 0.7734 - loss: 0.8959 - val_accuracy: 0.3750 - val_loss: 1.7392\n",
            "Epoch 15/25\n",
            "\u001b[1m1/1\u001b[0m \u001b[32m━━━━━━━━━━━━━━━━━━━━\u001b[0m\u001b[37m\u001b[0m \u001b[1m1s\u001b[0m 558ms/step - accuracy: 0.7734 - loss: 0.8761 - val_accuracy: 0.3750 - val_loss: 1.6883\n",
            "Epoch 16/25\n",
            "\u001b[1m1/1\u001b[0m \u001b[32m━━━━━━━━━━━━━━━━━━━━\u001b[0m\u001b[37m\u001b[0m \u001b[1m1s\u001b[0m 521ms/step - accuracy: 0.7734 - loss: 0.8633 - val_accuracy: 0.3750 - val_loss: 1.6449\n",
            "Epoch 17/25\n",
            "\u001b[1m1/1\u001b[0m \u001b[32m━━━━━━━━━━━━━━━━━━━━\u001b[0m\u001b[37m\u001b[0m \u001b[1m1s\u001b[0m 540ms/step - accuracy: 0.7734 - loss: 0.8375 - val_accuracy: 0.3750 - val_loss: 1.6044\n",
            "Epoch 18/25\n",
            "\u001b[1m1/1\u001b[0m \u001b[32m━━━━━━━━━━━━━━━━━━━━\u001b[0m\u001b[37m\u001b[0m \u001b[1m1s\u001b[0m 640ms/step - accuracy: 0.7734 - loss: 0.7979 - val_accuracy: 0.3750 - val_loss: 1.5903\n",
            "Epoch 19/25\n",
            "\u001b[1m1/1\u001b[0m \u001b[32m━━━━━━━━━━━━━━━━━━━━\u001b[0m\u001b[37m\u001b[0m \u001b[1m0s\u001b[0m 458ms/step - accuracy: 0.7734 - loss: 0.7772 - val_accuracy: 0.3750 - val_loss: 1.5995\n",
            "Epoch 20/25\n",
            "\u001b[1m1/1\u001b[0m \u001b[32m━━━━━━━━━━━━━━━━━━━━\u001b[0m\u001b[37m\u001b[0m \u001b[1m1s\u001b[0m 637ms/step - accuracy: 0.7734 - loss: 0.8018 - val_accuracy: 0.3750 - val_loss: 1.5951\n",
            "Epoch 21/25\n",
            "\u001b[1m1/1\u001b[0m \u001b[32m━━━━━━━━━━━━━━━━━━━━\u001b[0m\u001b[37m\u001b[0m \u001b[1m1s\u001b[0m 624ms/step - accuracy: 0.7734 - loss: 0.8307 - val_accuracy: 0.3750 - val_loss: 1.5943\n",
            "Epoch 22/25\n",
            "\u001b[1m1/1\u001b[0m \u001b[32m━━━━━━━━━━━━━━━━━━━━\u001b[0m\u001b[37m\u001b[0m \u001b[1m0s\u001b[0m 469ms/step - accuracy: 0.7734 - loss: 0.7718 - val_accuracy: 0.3750 - val_loss: 1.5714\n",
            "Epoch 23/25\n",
            "\u001b[1m1/1\u001b[0m \u001b[32m━━━━━━━━━━━━━━━━━━━━\u001b[0m\u001b[37m\u001b[0m \u001b[1m1s\u001b[0m 654ms/step - accuracy: 0.7734 - loss: 0.7921 - val_accuracy: 0.3750 - val_loss: 1.5491\n",
            "Epoch 24/25\n",
            "\u001b[1m1/1\u001b[0m \u001b[32m━━━━━━━━━━━━━━━━━━━━\u001b[0m\u001b[37m\u001b[0m \u001b[1m0s\u001b[0m 477ms/step - accuracy: 0.7734 - loss: 0.8190 - val_accuracy: 0.3750 - val_loss: 1.5528\n",
            "Epoch 25/25\n",
            "\u001b[1m1/1\u001b[0m \u001b[32m━━━━━━━━━━━━━━━━━━━━\u001b[0m\u001b[37m\u001b[0m \u001b[1m0s\u001b[0m 494ms/step - accuracy: 0.7734 - loss: 0.7822 - val_accuracy: 0.3750 - val_loss: 1.5646\n"
          ]
        },
        {
          "output_type": "execute_result",
          "data": {
            "text/plain": [
              "<keras.src.callbacks.history.History at 0x7ba7c1396c50>"
            ]
          },
          "metadata": {},
          "execution_count": 146
        }
      ]
    }
  ]
}